{
 "cells": [
  {
   "cell_type": "markdown",
   "metadata": {},
   "source": [
    "# Correlated (multivariate) normal random variables"
   ]
  },
  {
   "cell_type": "code",
   "execution_count": 1,
   "metadata": {},
   "outputs": [],
   "source": [
    "import numpy as np\n",
    "import scipy.stats as spst\n",
    "import matplotlib.pyplot as plt\n",
    "\n",
    "np.set_printoptions(precision=3)"
   ]
  },
  {
   "cell_type": "markdown",
   "metadata": {},
   "source": [
    "## Sigma (std) and correlation matrix"
   ]
  },
  {
   "cell_type": "code",
   "execution_count": 2,
   "metadata": {},
   "outputs": [
    {
     "name": "stdout",
     "output_type": "stream",
     "text": [
      "[2 5 2] \n",
      " [[ 1.   0.7 -0.2]\n",
      " [ 0.7  1.   0.5]\n",
      " [-0.2  0.5  1. ]]\n"
     ]
    }
   ],
   "source": [
    "sig_v = np.array([2, 5, 2])\n",
    "cor_m = np.array([[1, 0.7, -0.2], [0.7, 1, 0.5], [-0.2, 0.5, 1]])\n",
    "print(sig_v, '\\n', cor_m)"
   ]
  },
  {
   "cell_type": "code",
   "execution_count": 3,
   "metadata": {},
   "outputs": [
    {
     "data": {
      "image/png": "[encoded data removed]",
      "text/plain": [
       "<Figure size 288x288 with 1 Axes>"
      ]
     },
     "metadata": {
      "needs_background": "light"
     },
     "output_type": "display_data"
    }
   ],
   "source": [
    "# You can also create random Correlation matrixs\n",
    "\n",
    "n_asset = 5\n",
    "eig_val = np.random.uniform(size=n_asset)\n",
    "eig_val *= n_asset / np.sum(eig_val)\n",
    "# sum of eig_val = n_asset\n",
    "\n",
    "cor_m2 = spst.random_correlation.rvs(eig_val, tol=1e-8)\n",
    "_ = plt.matshow(cor_m2, cmap=plt.cm.Blues)"
   ]
  },
  {
   "cell_type": "markdown",
   "metadata": {},
   "source": [
    "### Construct Covariance Matrix"
   ]
  },
  {
   "cell_type": "code",
   "execution_count": 4,
   "metadata": {},
   "outputs": [
    {
     "data": {
      "text/plain": [
       "array([[2],\n",
       "       [5],\n",
       "       [2]])"
      ]
     },
     "execution_count": 4,
     "metadata": {},
     "output_type": "execute_result"
    }
   ],
   "source": [
    "sig_v[:,None]"
   ]
  },
  {
   "cell_type": "code",
   "execution_count": 5,
   "metadata": {},
   "outputs": [
    {
     "data": {
      "text/plain": [
       "array([[ 4. ,  7. , -0.8],\n",
       "       [ 7. , 25. ,  5. ],\n",
       "       [-0.8,  5. ,  4. ]])"
      ]
     },
     "execution_count": 5,
     "metadata": {},
     "output_type": "execute_result"
    }
   ],
   "source": [
    "sig_v[:,None] * sig_v * cor_m"
   ]
  },
  {
   "cell_type": "code",
   "execution_count": 6,
   "metadata": {},
   "outputs": [
    {
     "name": "stdout",
     "output_type": "stream",
     "text": [
      "[[ 4.   7.  -0.8]\n",
      " [ 7.  25.   5. ]\n",
      " [-0.8  5.   4. ]]\n"
     ]
    }
   ],
   "source": [
    "cov_m = sig_v * cor_m * sig_v[:,None]\n",
    "print(cov_m)"
   ]
  },
  {
   "cell_type": "markdown",
   "metadata": {
    "collapsed": true
   },
   "source": [
    "### Cholesky decomposition of covariance matrix"
   ]
  },
  {
   "cell_type": "code",
   "execution_count": 7,
   "metadata": {
    "scrolled": true
   },
   "outputs": [
    {
     "name": "stdout",
     "output_type": "stream",
     "text": [
      "[[ 2.     0.     0.   ]\n",
      " [ 3.5    3.571  0.   ]\n",
      " [-0.4    1.792  0.792]]\n"
     ]
    }
   ],
   "source": [
    "chol_m = np.linalg.cholesky(cov_m)\n",
    "print(chol_m)"
   ]
  },
  {
   "cell_type": "code",
   "execution_count": 8,
   "metadata": {},
   "outputs": [
    {
     "name": "stdout",
     "output_type": "stream",
     "text": [
      "[[ 4.   7.  -0.8]\n",
      " [ 7.  25.   5. ]\n",
      " [-0.8  5.   4. ]] \n",
      "\n",
      "[[0. 0. 0.]\n",
      " [0. 0. 0.]\n",
      " [0. 0. 0.]]\n"
     ]
    }
   ],
   "source": [
    "# Let's verify that L x L^T = Covariance\n",
    "\n",
    "print( chol_m @ chol_m.T, '\\n' )\n",
    "print( chol_m @ chol_m.T - cov_m )"
   ]
  },
  {
   "cell_type": "code",
   "execution_count": 9,
   "metadata": {},
   "outputs": [
    {
     "data": {
      "text/plain": [
       "array([[-2.061, -0.123, -1.635, ..., -0.662, -0.595,  1.032],\n",
       "       [ 0.121,  0.808, -1.099, ..., -0.546,  0.561, -1.162],\n",
       "       [-0.016, -0.771, -0.702, ..., -0.72 , -0.753, -0.704]])"
      ]
     },
     "execution_count": 9,
     "metadata": {},
     "output_type": "execute_result"
    }
   ],
   "source": [
    "# Now let's create multivariate normal random variables following the covariance matrix\n",
    "# First, create standard normals (3 x 1000)\n",
    "\n",
    "znorm_m = np.random.normal(size=(3, 1000))\n",
    "znorm_m"
   ]
  },
  {
   "cell_type": "code",
   "execution_count": 10,
   "metadata": {},
   "outputs": [
    {
     "data": {
      "text/plain": [
       "array([[ 1.011,  0.002, -0.04 ],\n",
       "       [ 0.002,  1.034,  0.02 ],\n",
       "       [-0.04 ,  0.02 ,  1.064]])"
      ]
     },
     "execution_count": 10,
     "metadata": {},
     "output_type": "execute_result"
    }
   ],
   "source": [
    "np.round(np.cov(znorm_m),3)"
   ]
  },
  {
   "cell_type": "code",
   "execution_count": 11,
   "metadata": {},
   "outputs": [
    {
     "data": {
      "text/plain": [
       "array([[-4.122, -0.245, -3.271, ..., -1.325, -1.191,  2.064],\n",
       "       [-6.783,  2.457, -9.648, ..., -4.268, -0.079, -0.535],\n",
       "       [ 1.027,  0.887, -1.872, ..., -1.284,  0.648, -3.053]])"
      ]
     },
     "execution_count": 11,
     "metadata": {},
     "output_type": "execute_result"
    }
   ],
   "source": [
    "# Then multiply C^T\n",
    "\n",
    "#xnorm_m = znorm_m @ chol_m.transpose()\n",
    "xnorm_m = chol_m @ znorm_m\n",
    "xnorm_m"
   ]
  },
  {
   "cell_type": "code",
   "execution_count": 12,
   "metadata": {
    "scrolled": true
   },
   "outputs": [
    {
     "name": "stdout",
     "output_type": "stream",
     "text": [
      "[[ 4.   7.  -0.8]\n",
      " [ 7.  25.   5. ]\n",
      " [-0.8  5.   4. ]]\n",
      "Cov from sample:\n",
      " [[ 4.045  7.089 -0.867]\n",
      " [ 7.089 25.605  5.152]\n",
      " [-0.867  5.152  4.229]]\n",
      "Error of Cov matrix:\n",
      " [[ 0.045  0.089 -0.067]\n",
      " [ 0.089  0.605  0.152]\n",
      " [-0.067  0.152  0.229]]\n"
     ]
    }
   ],
   "source": [
    "# Let's verify that X = C * Z  follows the covariance\n",
    "print(cov_m)\n",
    "cov_m_sample = np.cov( xnorm_m )\n",
    "print( 'Cov from sample:\\n', cov_m_sample )\n",
    "print( 'Error of Cov matrix:\\n', cov_m_sample - cov_m )"
   ]
  },
  {
   "cell_type": "code",
   "execution_count": 13,
   "metadata": {},
   "outputs": [
    {
     "name": "stdout",
     "output_type": "stream",
     "text": [
      "[[ 1.   0.7 -0.2]\n",
      " [ 0.7  1.   0.5]\n",
      " [-0.2  0.5  1. ]]\n",
      "Corr from sample:\n",
      " [[ 1.     0.697 -0.21 ]\n",
      " [ 0.697  1.     0.495]\n",
      " [-0.21   0.495  1.   ]]\n",
      "Error:\n",
      " [[ 0.000e+00 -3.377e-03 -9.624e-03]\n",
      " [-3.377e-03  0.000e+00 -4.937e-03]\n",
      " [-9.624e-03 -4.937e-03 -2.220e-16]]\n"
     ]
    }
   ],
   "source": [
    "# also check the correation\n",
    "print(cor_m)\n",
    "cor_m_sample = np.corrcoef( xnorm_m )\n",
    "print( 'Corr from sample:\\n', cor_m_sample )\n",
    "print( 'Error:\\n', cor_m_sample - cor_m )"
   ]
  },
  {
   "cell_type": "markdown",
   "metadata": {
    "collapsed": true
   },
   "source": []
  }
 ],
 "metadata": {
  "anaconda-cloud": {},
  "kernelspec": {
   "display_name": "Python 3 (ipykernel)",
   "language": "python",
   "name": "python3"
  },
  "language_info": {
   "codemirror_mode": {
    "name": "ipython",
    "version": 3
   },
   "file_extension": ".py",
   "mimetype": "text/x-python",
   "name": "python",
   "nbconvert_exporter": "python",
   "pygments_lexer": "ipython3",
   "version": "3.8.11"
  }
 },
 "nbformat": 4,
 "nbformat_minor": 1
}
